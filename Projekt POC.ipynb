{
 "cells": [
  {
   "cell_type": "code",
   "execution_count": 2,
   "metadata": {},
   "outputs": [
    {
     "ename": "ModuleNotFoundError",
     "evalue": "No module named 'cv2'",
     "output_type": "error",
     "traceback": [
      "\u001b[1;31m---------------------------------------------------------------------------\u001b[0m",
      "\u001b[1;31mModuleNotFoundError\u001b[0m                       Traceback (most recent call last)",
      "\u001b[1;32m<ipython-input-2-3d700af34b23>\u001b[0m in \u001b[0;36m<module>\u001b[1;34m()\u001b[0m\n\u001b[0;32m      6\u001b[0m \u001b[1;32mfrom\u001b[0m \u001b[0mskimage\u001b[0m \u001b[1;32mimport\u001b[0m \u001b[0mio\u001b[0m\u001b[1;33m,\u001b[0m \u001b[0mimg_as_ubyte\u001b[0m\u001b[1;33m\u001b[0m\u001b[0m\n\u001b[0;32m      7\u001b[0m \u001b[1;32mfrom\u001b[0m \u001b[0mskimage\u001b[0m\u001b[1;33m.\u001b[0m\u001b[0mcolor\u001b[0m \u001b[1;32mimport\u001b[0m \u001b[0mrgb2gray\u001b[0m\u001b[1;33m\u001b[0m\u001b[0m\n\u001b[1;32m----> 8\u001b[1;33m \u001b[1;32mimport\u001b[0m \u001b[0mcv2\u001b[0m\u001b[1;33m\u001b[0m\u001b[0m\n\u001b[0m\u001b[0;32m      9\u001b[0m \u001b[1;32mimport\u001b[0m \u001b[0mnumpy\u001b[0m \u001b[1;32mas\u001b[0m \u001b[0mnp\u001b[0m\u001b[1;33m\u001b[0m\u001b[0m\n\u001b[0;32m     10\u001b[0m \u001b[1;32mimport\u001b[0m \u001b[0mmatplotlib\u001b[0m\u001b[1;33m.\u001b[0m\u001b[0mpyplot\u001b[0m \u001b[1;32mas\u001b[0m \u001b[0mplt\u001b[0m\u001b[1;33m\u001b[0m\u001b[0m\n",
      "\u001b[1;31mModuleNotFoundError\u001b[0m: No module named 'cv2'"
     ]
    }
   ],
   "source": [
    "from scipy.spatial import distance\n",
    "from skimage import data\n",
    "from skimage import io, color, img_as_ubyte, util\n",
    "import warnings\n",
    "warnings.filterwarnings('ignore')\n",
    "from skimage import io, img_as_ubyte\n",
    "from skimage.color import rgb2gray\n",
    "import cv2\n",
    "import numpy as np\n",
    "import matplotlib.pyplot as plt\n",
    "t=0.0000000000000000000000000001\n",
    "import matplotlib.patches as mpatches\n",
    "from skimage.filters import threshold_otsu\n",
    "from skimage.segmentation import clear_border\n",
    "from skimage.measure import label, regionprops\n",
    "from skimage.morphology import closing, square\n",
    "from skimage.color import label2rgb\n",
    "import math\n",
    "from skimage import filters\n",
    "##########################################################################################################\n",
    "\n",
    "def show2imgs(im1, im2, title1='Obraz pierwszy', title2='Obraz drugi', size=(10,10)):\n",
    "    \n",
    "    import matplotlib.pyplot as plt\n",
    "    \n",
    "    f, (ax1, ax2) = plt.subplots(1,2, figsize=size)\n",
    "    ax1.imshow(im1, cmap='gray')\n",
    "    ax1.axis('off')\n",
    "    ax1.set_title(title1)\n",
    "\n",
    "    ax2.imshow(im2, cmap='gray')\n",
    "    ax2.axis('off')\n",
    "    ax2.set_title(title2)\n",
    "    plt.show()\n",
    "\n",
    "###Współczynnik Fereta###\n",
    "def computeFeret(points):\n",
    "    \n",
    "    px = [x for (y,x) in points]\n",
    "    py = [y for (y,x) in points]\n",
    "    \n",
    "    fx = max(px) - min(px)\n",
    "    fy = max(py) - min(py)\n",
    "    \n",
    "    return float(fy)/(float(fx)+t)  \n",
    "\n",
    "###Współczynnik Blair-Bliss####\n",
    "\n",
    "def computeBB(points):\n",
    "    \n",
    "    s = len(points)\n",
    "    my,mx = cog2(pts)\n",
    "    \n",
    "    r = 0\n",
    "    for point in points:\n",
    "         r = r + distance.euclidean(point,(my,mx))**2\n",
    "            \n",
    "    return s/(math.sqrt(2*math.pi*r)+t)\n",
    "\n",
    "def cog2(points):\n",
    "    mx=0\n",
    "    my=0\n",
    "    for (y,x) in points:\n",
    "        mx = mx + x\n",
    "        my = my + y\n",
    "    mx = mx/len(points)\n",
    "    my = my/len(points)\n",
    "    \n",
    "    return [my, mx]\n",
    "\n",
    "###srodek cięzkości###\n",
    "def cog(labelledImage, objNumber):\n",
    "    cx = 0\n",
    "    cy = 0\n",
    "    for y in range(labelledImage.shape[0]):\n",
    "        for x in range(labelledImage.shape[1]):\n",
    "            if labelledImage[y,x] == objNumber:\n",
    "                cy = cy + y\n",
    "                cx = cx + x\n",
    "\n",
    "    cx = cx / sizes[objNumber]\n",
    "    cy = cy / sizes[objNumber]\n",
    "\n",
    "    return int (cy), int (cx)\n",
    "\n",
    "def getFigure(labelledImage, objNumber):\n",
    "    \n",
    "    points = []\n",
    "    for y in range(labelledImage.shape[0]):\n",
    "        for x in range(labelledImage.shape[1]):\n",
    "            if labelledImage[y,x] == objNumber:\n",
    "                points.append((y,x))\n",
    "\n",
    "    return points\n",
    "\n",
    "\n",
    "\n"
   ]
  },
  {
   "cell_type": "code",
   "execution_count": null,
   "metadata": {},
   "outputs": [],
   "source": [
    "im=\"10.jpg\"\n",
    "obr = io.imread(im)\n",
    "obr = color.rgb2gray(obr)\n",
    "obr = img_as_ubyte(obr) \n",
    "show2imgs(obr,obr,title1=\"1\",title2=\"2\",size=(25,25))\n"
   ]
  },
  {
   "cell_type": "code",
   "execution_count": null,
   "metadata": {
    "scrolled": true
   },
   "outputs": [],
   "source": [
    "\n",
    "th = 150\n",
    "th, bim = cv2.threshold(obr, thresh=th, maxval=255, type=cv2.THRESH_OTSU)\n",
    "\n",
    "show2imgs(obr, bim, title1='Obraz oryginalny', title2='Obraz po binaryzacji', size=(25,25))"
   ]
  },
  {
   "cell_type": "code",
   "execution_count": null,
   "metadata": {},
   "outputs": [],
   "source": [
    "\n",
    "kernel = np.ones((8,8),np.uint8)\n",
    "erodeBin = cv2.erode(bim, kernel=kernel, iterations=2)\n",
    "show2imgs(bim, erodeBin, title1='Obraz oryginalny', title2='Obraz erozji', size=(20,20))"
   ]
  },
  {
   "cell_type": "code",
   "execution_count": null,
   "metadata": {},
   "outputs": [],
   "source": [
    "image = erodeBin[5:-5, 5:-5]\n",
    "ilosc = 0\n",
    "\n",
    "# OTSU\n",
    "thresh = threshold_otsu(image)\n",
    "bw = closing(image > thresh, square(3))\n",
    "\n",
    "#usuwa zakłócenia na granicy\n",
    "cleared = clear_border(bw)\n",
    "\n",
    "label_image = label(cleared)\n",
    "image_label_overlay = label2rgb(label_image, image=image)\n",
    "\n",
    "fig, ax = plt.subplots(figsize=(10, 6))\n",
    "ax.imshow(image_label_overlay)\n",
    "\n",
    "for region in regionprops(label_image):\n",
    "    if region.area >= 20:\n",
    "        ilosc+=1\n",
    "        #rysuje kwadraty opisane na obiektach\n",
    "        minr, minc, maxr, maxc = region.bbox\n",
    "        \n",
    "        rect = mpatches.Rectangle((minc, minr), maxc - minc, maxr - minr,\n",
    "                                  fill=False, edgecolor='yellow', linewidth=1)\n",
    "        ax.add_patch(rect)\n",
    "\n",
    "ax.set_axis_off()\n",
    "plt.tight_layout()\n",
    "plt.show() \n",
    "\n",
    "print('ziaren jest:', ilosc)"
   ]
  },
  {
   "cell_type": "code",
   "execution_count": null,
   "metadata": {},
   "outputs": [],
   "source": [
    "image = util.invert(erodeBin)\n",
    "image = rgb2gray(image)"
   ]
  },
  {
   "cell_type": "code",
   "execution_count": null,
   "metadata": {},
   "outputs": [],
   "source": [
    "th = 1\n",
    "\n",
    "print('Prog binaryzacji: ', th)\n",
    "\n",
    "binary = image < th\n",
    "\n",
    "plt.imshow(binary, cmap='binary')\n",
    "plt.axis('on')\n",
    "plt.suptitle('Obraz po binaryzacji')\n",
    "plt.show()"
   ]
  },
  {
   "cell_type": "code",
   "execution_count": null,
   "metadata": {
    "scrolled": false
   },
   "outputs": [],
   "source": [
    "from scipy import ndimage as ndi\n",
    "label_objects, nb_labels = ndi.label(binary)\n",
    "\n",
    "sizes = np.bincount(label_objects.ravel())\n",
    "mask_sizes = sizes > 20\n",
    "mask_sizes[0] = 0\n",
    "\n",
    "figures = mask_sizes[label_objects]"
   ]
  },
  {
   "cell_type": "code",
   "execution_count": null,
   "metadata": {},
   "outputs": [],
   "source": [
    "plt.imshow(figures, cmap=\"hot\")\n",
    "plt.axis('on')\n",
    "plt.suptitle('Obiekty na obrazie')\n",
    "plt.show()"
   ]
  },
  {
   "cell_type": "code",
   "execution_count": null,
   "metadata": {},
   "outputs": [],
   "source": [
    "cogs = []\n",
    "for i in range(nb_labels):\n",
    "    cogs.append(cog(label_objects, i+1))\n",
    "print('Środki ciężkości dla obiektów')\n",
    "print(cogs)"
   ]
  },
  {
   "cell_type": "code",
   "execution_count": null,
   "metadata": {},
   "outputs": [],
   "source": [
    "print (nb_labels)"
   ]
  },
  {
   "cell_type": "code",
   "execution_count": null,
   "metadata": {},
   "outputs": [],
   "source": [
    "\n",
    "for i in range(nb_labels):\n",
    "    pts = getFigure(label_objects, i+1)\n",
    "    bb = computeBB(pts)\n",
    "    feret = computeFeret(pts)\n",
    "    \n",
    "    print('Liczba punktow: ',len(pts),'\\nBlair-Bliss: ', bb,'\\nFeret: ',feret, '\\n---\\n')"
   ]
  },
  {
   "cell_type": "code",
   "execution_count": null,
   "metadata": {},
   "outputs": [],
   "source": []
  }
 ],
 "metadata": {
  "kernelspec": {
   "display_name": "Python 3",
   "language": "python",
   "name": "python3"
  },
  "language_info": {
   "codemirror_mode": {
    "name": "ipython",
    "version": 3
   },
   "file_extension": ".py",
   "mimetype": "text/x-python",
   "name": "python",
   "nbconvert_exporter": "python",
   "pygments_lexer": "ipython3",
   "version": "3.7.0"
  }
 },
 "nbformat": 4,
 "nbformat_minor": 2
}
